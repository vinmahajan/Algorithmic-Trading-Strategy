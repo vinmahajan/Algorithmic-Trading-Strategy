{
 "cells": [
  {
   "cell_type": "code",
   "execution_count": 1,
   "metadata": {},
   "outputs": [
    {
     "name": "stdout",
     "output_type": "stream",
     "text": [
      "Requirement already satisfied: alpha_vantage in c:\\users\\rajeev\\appdata\\local\\packages\\pythonsoftwarefoundation.python.3.10_qbz5n2kfra8p0\\localcache\\local-packages\\python310\\site-packages (2.3.1)\n",
      "Requirement already satisfied: aiohttp in c:\\users\\rajeev\\appdata\\local\\packages\\pythonsoftwarefoundation.python.3.10_qbz5n2kfra8p0\\localcache\\local-packages\\python310\\site-packages (from alpha_vantage) (3.8.4)\n",
      "Requirement already satisfied: requests in c:\\users\\rajeev\\appdata\\local\\packages\\pythonsoftwarefoundation.python.3.10_qbz5n2kfra8p0\\localcache\\local-packages\\python310\\site-packages (from alpha_vantage) (2.28.2)\n",
      "Requirement already satisfied: async-timeout<5.0,>=4.0.0a3 in c:\\users\\rajeev\\appdata\\local\\packages\\pythonsoftwarefoundation.python.3.10_qbz5n2kfra8p0\\localcache\\local-packages\\python310\\site-packages (from aiohttp->alpha_vantage) (4.0.2)\n",
      "Requirement already satisfied: yarl<2.0,>=1.0 in c:\\users\\rajeev\\appdata\\local\\packages\\pythonsoftwarefoundation.python.3.10_qbz5n2kfra8p0\\localcache\\local-packages\\python310\\site-packages (from aiohttp->alpha_vantage) (1.8.2)\n",
      "Requirement already satisfied: aiosignal>=1.1.2 in c:\\users\\rajeev\\appdata\\local\\packages\\pythonsoftwarefoundation.python.3.10_qbz5n2kfra8p0\\localcache\\local-packages\\python310\\site-packages (from aiohttp->alpha_vantage) (1.3.1)\n",
      "Requirement already satisfied: attrs>=17.3.0 in c:\\users\\rajeev\\appdata\\local\\packages\\pythonsoftwarefoundation.python.3.10_qbz5n2kfra8p0\\localcache\\local-packages\\python310\\site-packages (from aiohttp->alpha_vantage) (22.2.0)\n",
      "Requirement already satisfied: charset-normalizer<4.0,>=2.0 in c:\\users\\rajeev\\appdata\\local\\packages\\pythonsoftwarefoundation.python.3.10_qbz5n2kfra8p0\\localcache\\local-packages\\python310\\site-packages (from aiohttp->alpha_vantage) (3.0.1)\n",
      "Requirement already satisfied: frozenlist>=1.1.1 in c:\\users\\rajeev\\appdata\\local\\packages\\pythonsoftwarefoundation.python.3.10_qbz5n2kfra8p0\\localcache\\local-packages\\python310\\site-packages (from aiohttp->alpha_vantage) (1.3.3)\n",
      "Requirement already satisfied: multidict<7.0,>=4.5 in c:\\users\\rajeev\\appdata\\local\\packages\\pythonsoftwarefoundation.python.3.10_qbz5n2kfra8p0\\localcache\\local-packages\\python310\\site-packages (from aiohttp->alpha_vantage) (6.0.4)\n",
      "Requirement already satisfied: idna<4,>=2.5 in c:\\users\\rajeev\\appdata\\local\\packages\\pythonsoftwarefoundation.python.3.10_qbz5n2kfra8p0\\localcache\\local-packages\\python310\\site-packages (from requests->alpha_vantage) (3.4)\n",
      "Requirement already satisfied: urllib3<1.27,>=1.21.1 in c:\\users\\rajeev\\appdata\\local\\packages\\pythonsoftwarefoundation.python.3.10_qbz5n2kfra8p0\\localcache\\local-packages\\python310\\site-packages (from requests->alpha_vantage) (1.26.14)\n",
      "Requirement already satisfied: certifi>=2017.4.17 in c:\\users\\rajeev\\appdata\\local\\packages\\pythonsoftwarefoundation.python.3.10_qbz5n2kfra8p0\\localcache\\local-packages\\python310\\site-packages (from requests->alpha_vantage) (2022.12.7)\n"
     ]
    }
   ],
   "source": [
    "!pip install alpha_vantage"
   ]
  },
  {
   "cell_type": "code",
   "execution_count": 2,
   "metadata": {},
   "outputs": [],
   "source": [
    "import pandas as pd\n",
    "from alpha_vantage.timeseries import TimeSeries\n",
    "\n",
    "\n",
    "class ScriptData:\n",
    "    def __init__(self):\n",
    "        self.data = {}\n",
    "\n",
    "    def fetch_intraday_data(self, script):\n",
    "        ts = TimeSeries(key='FYRQ9G4D1SERFT1V', output_format='pandas')\n",
    "        data, _ = ts.get_intraday(symbol=script, interval='1min')\n",
    "        self.data[script] = data\n",
    "\n",
    "    def convert_intraday_data(self, script):\n",
    "        if script not in self.data:\n",
    "            raise ValueError(f\"{script} data not found.\")\n",
    "        data = self.data[script]\n",
    "        df = pd.DataFrame(columns=['timestamp', 'open', 'high', 'low', 'close', 'volume'])\n",
    "        for index, row in data.iterrows():\n",
    "            ts = pd.Timestamp(index)\n",
    "            row_data = [ts, row['1. open'], row['2. high'], row['3. low'], row['4. close'], row['5. volume']]\n",
    "            df.loc[len(df)] = row_data\n",
    "        return df\n",
    "\n",
    "    def __getitem__(self, key):\n",
    "        if key not in self.data:\n",
    "            raise KeyError(f\"{key} not found.\")\n",
    "        return self.convert_intraday_data(key)\n",
    "\n",
    "    def __setitem__(self, key, value):\n",
    "        raise NotImplementedError(\"Setting data using setitem method is not implemented.\")\n",
    "\n",
    "    def __contains__(self, key):\n",
    "        return key in self.data.keys() or any(key in df.index.get_level_values(0) for df in self.data.values())\n",
    "\n",
    "\n"
   ]
  },
  {
   "cell_type": "code",
   "execution_count": 3,
   "metadata": {},
   "outputs": [],
   "source": [
    "script_data = ScriptData()"
   ]
  },
  {
   "cell_type": "code",
   "execution_count": 4,
   "metadata": {},
   "outputs": [
    {
     "data": {
      "text/html": [
       "<div>\n",
       "<style scoped>\n",
       "    .dataframe tbody tr th:only-of-type {\n",
       "        vertical-align: middle;\n",
       "    }\n",
       "\n",
       "    .dataframe tbody tr th {\n",
       "        vertical-align: top;\n",
       "    }\n",
       "\n",
       "    .dataframe thead th {\n",
       "        text-align: right;\n",
       "    }\n",
       "</style>\n",
       "<table border=\"1\" class=\"dataframe\">\n",
       "  <thead>\n",
       "    <tr style=\"text-align: right;\">\n",
       "      <th></th>\n",
       "      <th>timestamp</th>\n",
       "      <th>open</th>\n",
       "      <th>high</th>\n",
       "      <th>low</th>\n",
       "      <th>close</th>\n",
       "      <th>volume</th>\n",
       "    </tr>\n",
       "  </thead>\n",
       "  <tbody>\n",
       "    <tr>\n",
       "      <th>0</th>\n",
       "      <td>2023-02-15 20:00:00</td>\n",
       "      <td>97.10</td>\n",
       "      <td>97.11</td>\n",
       "      <td>97.10</td>\n",
       "      <td>97.10</td>\n",
       "      <td>1470.0</td>\n",
       "    </tr>\n",
       "    <tr>\n",
       "      <th>1</th>\n",
       "      <td>2023-02-15 19:59:00</td>\n",
       "      <td>97.12</td>\n",
       "      <td>97.12</td>\n",
       "      <td>97.12</td>\n",
       "      <td>97.12</td>\n",
       "      <td>684.0</td>\n",
       "    </tr>\n",
       "    <tr>\n",
       "      <th>2</th>\n",
       "      <td>2023-02-15 19:58:00</td>\n",
       "      <td>97.12</td>\n",
       "      <td>97.12</td>\n",
       "      <td>97.12</td>\n",
       "      <td>97.12</td>\n",
       "      <td>1298.0</td>\n",
       "    </tr>\n",
       "    <tr>\n",
       "      <th>3</th>\n",
       "      <td>2023-02-15 19:57:00</td>\n",
       "      <td>97.10</td>\n",
       "      <td>97.12</td>\n",
       "      <td>97.10</td>\n",
       "      <td>97.12</td>\n",
       "      <td>1047.0</td>\n",
       "    </tr>\n",
       "    <tr>\n",
       "      <th>4</th>\n",
       "      <td>2023-02-15 19:56:00</td>\n",
       "      <td>97.12</td>\n",
       "      <td>97.12</td>\n",
       "      <td>97.10</td>\n",
       "      <td>97.10</td>\n",
       "      <td>806.0</td>\n",
       "    </tr>\n",
       "    <tr>\n",
       "      <th>...</th>\n",
       "      <td>...</td>\n",
       "      <td>...</td>\n",
       "      <td>...</td>\n",
       "      <td>...</td>\n",
       "      <td>...</td>\n",
       "      <td>...</td>\n",
       "    </tr>\n",
       "    <tr>\n",
       "      <th>95</th>\n",
       "      <td>2023-02-15 18:01:00</td>\n",
       "      <td>96.90</td>\n",
       "      <td>96.95</td>\n",
       "      <td>96.89</td>\n",
       "      <td>96.94</td>\n",
       "      <td>6472.0</td>\n",
       "    </tr>\n",
       "    <tr>\n",
       "      <th>96</th>\n",
       "      <td>2023-02-15 18:00:00</td>\n",
       "      <td>96.90</td>\n",
       "      <td>96.90</td>\n",
       "      <td>96.90</td>\n",
       "      <td>96.90</td>\n",
       "      <td>585.0</td>\n",
       "    </tr>\n",
       "    <tr>\n",
       "      <th>97</th>\n",
       "      <td>2023-02-15 17:59:00</td>\n",
       "      <td>96.90</td>\n",
       "      <td>96.91</td>\n",
       "      <td>96.90</td>\n",
       "      <td>96.91</td>\n",
       "      <td>760.0</td>\n",
       "    </tr>\n",
       "    <tr>\n",
       "      <th>98</th>\n",
       "      <td>2023-02-15 17:58:00</td>\n",
       "      <td>96.93</td>\n",
       "      <td>96.93</td>\n",
       "      <td>96.93</td>\n",
       "      <td>96.93</td>\n",
       "      <td>122.0</td>\n",
       "    </tr>\n",
       "    <tr>\n",
       "      <th>99</th>\n",
       "      <td>2023-02-15 17:57:00</td>\n",
       "      <td>96.93</td>\n",
       "      <td>96.93</td>\n",
       "      <td>96.93</td>\n",
       "      <td>96.93</td>\n",
       "      <td>146.0</td>\n",
       "    </tr>\n",
       "  </tbody>\n",
       "</table>\n",
       "<p>100 rows × 6 columns</p>\n",
       "</div>"
      ],
      "text/plain": [
       "             timestamp   open   high    low  close  volume\n",
       "0  2023-02-15 20:00:00  97.10  97.11  97.10  97.10  1470.0\n",
       "1  2023-02-15 19:59:00  97.12  97.12  97.12  97.12   684.0\n",
       "2  2023-02-15 19:58:00  97.12  97.12  97.12  97.12  1298.0\n",
       "3  2023-02-15 19:57:00  97.10  97.12  97.10  97.12  1047.0\n",
       "4  2023-02-15 19:56:00  97.12  97.12  97.10  97.10   806.0\n",
       "..                 ...    ...    ...    ...    ...     ...\n",
       "95 2023-02-15 18:01:00  96.90  96.95  96.89  96.94  6472.0\n",
       "96 2023-02-15 18:00:00  96.90  96.90  96.90  96.90   585.0\n",
       "97 2023-02-15 17:59:00  96.90  96.91  96.90  96.91   760.0\n",
       "98 2023-02-15 17:58:00  96.93  96.93  96.93  96.93   122.0\n",
       "99 2023-02-15 17:57:00  96.93  96.93  96.93  96.93   146.0\n",
       "\n",
       "[100 rows x 6 columns]"
      ]
     },
     "execution_count": 4,
     "metadata": {},
     "output_type": "execute_result"
    }
   ],
   "source": [
    "script_data.fetch_intraday_data('GOOGL')\n",
    "script_data.convert_intraday_data('GOOGL')\n",
    "script_data['GOOGL']"
   ]
  },
  {
   "cell_type": "code",
   "execution_count": 5,
   "metadata": {},
   "outputs": [
    {
     "data": {
      "text/html": [
       "<div>\n",
       "<style scoped>\n",
       "    .dataframe tbody tr th:only-of-type {\n",
       "        vertical-align: middle;\n",
       "    }\n",
       "\n",
       "    .dataframe tbody tr th {\n",
       "        vertical-align: top;\n",
       "    }\n",
       "\n",
       "    .dataframe thead th {\n",
       "        text-align: right;\n",
       "    }\n",
       "</style>\n",
       "<table border=\"1\" class=\"dataframe\">\n",
       "  <thead>\n",
       "    <tr style=\"text-align: right;\">\n",
       "      <th></th>\n",
       "      <th>timestamp</th>\n",
       "      <th>open</th>\n",
       "      <th>high</th>\n",
       "      <th>low</th>\n",
       "      <th>close</th>\n",
       "      <th>volume</th>\n",
       "    </tr>\n",
       "  </thead>\n",
       "  <tbody>\n",
       "    <tr>\n",
       "      <th>0</th>\n",
       "      <td>2023-02-15 20:00:00</td>\n",
       "      <td>155.51</td>\n",
       "      <td>155.5100</td>\n",
       "      <td>155.48</td>\n",
       "      <td>155.4800</td>\n",
       "      <td>7147.0</td>\n",
       "    </tr>\n",
       "    <tr>\n",
       "      <th>1</th>\n",
       "      <td>2023-02-15 19:59:00</td>\n",
       "      <td>155.50</td>\n",
       "      <td>155.5100</td>\n",
       "      <td>155.49</td>\n",
       "      <td>155.5100</td>\n",
       "      <td>3725.0</td>\n",
       "    </tr>\n",
       "    <tr>\n",
       "      <th>2</th>\n",
       "      <td>2023-02-15 19:58:00</td>\n",
       "      <td>155.48</td>\n",
       "      <td>155.5000</td>\n",
       "      <td>155.48</td>\n",
       "      <td>155.4901</td>\n",
       "      <td>1386.0</td>\n",
       "    </tr>\n",
       "    <tr>\n",
       "      <th>3</th>\n",
       "      <td>2023-02-15 19:57:00</td>\n",
       "      <td>155.49</td>\n",
       "      <td>155.5000</td>\n",
       "      <td>155.49</td>\n",
       "      <td>155.4900</td>\n",
       "      <td>1288.0</td>\n",
       "    </tr>\n",
       "    <tr>\n",
       "      <th>4</th>\n",
       "      <td>2023-02-15 19:56:00</td>\n",
       "      <td>155.48</td>\n",
       "      <td>155.4800</td>\n",
       "      <td>155.48</td>\n",
       "      <td>155.4800</td>\n",
       "      <td>690.0</td>\n",
       "    </tr>\n",
       "    <tr>\n",
       "      <th>...</th>\n",
       "      <td>...</td>\n",
       "      <td>...</td>\n",
       "      <td>...</td>\n",
       "      <td>...</td>\n",
       "      <td>...</td>\n",
       "      <td>...</td>\n",
       "    </tr>\n",
       "    <tr>\n",
       "      <th>95</th>\n",
       "      <td>2023-02-15 17:12:00</td>\n",
       "      <td>155.29</td>\n",
       "      <td>155.2900</td>\n",
       "      <td>155.29</td>\n",
       "      <td>155.2900</td>\n",
       "      <td>120.0</td>\n",
       "    </tr>\n",
       "    <tr>\n",
       "      <th>96</th>\n",
       "      <td>2023-02-15 17:10:00</td>\n",
       "      <td>155.29</td>\n",
       "      <td>155.2900</td>\n",
       "      <td>155.29</td>\n",
       "      <td>155.2900</td>\n",
       "      <td>359.0</td>\n",
       "    </tr>\n",
       "    <tr>\n",
       "      <th>97</th>\n",
       "      <td>2023-02-15 17:08:00</td>\n",
       "      <td>155.29</td>\n",
       "      <td>155.2900</td>\n",
       "      <td>155.29</td>\n",
       "      <td>155.2900</td>\n",
       "      <td>275.0</td>\n",
       "    </tr>\n",
       "    <tr>\n",
       "      <th>98</th>\n",
       "      <td>2023-02-15 17:07:00</td>\n",
       "      <td>155.30</td>\n",
       "      <td>155.3085</td>\n",
       "      <td>155.30</td>\n",
       "      <td>155.3085</td>\n",
       "      <td>283.0</td>\n",
       "    </tr>\n",
       "    <tr>\n",
       "      <th>99</th>\n",
       "      <td>2023-02-15 17:05:00</td>\n",
       "      <td>155.30</td>\n",
       "      <td>155.3000</td>\n",
       "      <td>155.30</td>\n",
       "      <td>155.3000</td>\n",
       "      <td>429.0</td>\n",
       "    </tr>\n",
       "  </tbody>\n",
       "</table>\n",
       "<p>100 rows × 6 columns</p>\n",
       "</div>"
      ],
      "text/plain": [
       "             timestamp    open      high     low     close  volume\n",
       "0  2023-02-15 20:00:00  155.51  155.5100  155.48  155.4800  7147.0\n",
       "1  2023-02-15 19:59:00  155.50  155.5100  155.49  155.5100  3725.0\n",
       "2  2023-02-15 19:58:00  155.48  155.5000  155.48  155.4901  1386.0\n",
       "3  2023-02-15 19:57:00  155.49  155.5000  155.49  155.4900  1288.0\n",
       "4  2023-02-15 19:56:00  155.48  155.4800  155.48  155.4800   690.0\n",
       "..                 ...     ...       ...     ...       ...     ...\n",
       "95 2023-02-15 17:12:00  155.29  155.2900  155.29  155.2900   120.0\n",
       "96 2023-02-15 17:10:00  155.29  155.2900  155.29  155.2900   359.0\n",
       "97 2023-02-15 17:08:00  155.29  155.2900  155.29  155.2900   275.0\n",
       "98 2023-02-15 17:07:00  155.30  155.3085  155.30  155.3085   283.0\n",
       "99 2023-02-15 17:05:00  155.30  155.3000  155.30  155.3000   429.0\n",
       "\n",
       "[100 rows x 6 columns]"
      ]
     },
     "execution_count": 5,
     "metadata": {},
     "output_type": "execute_result"
    }
   ],
   "source": [
    "script_data.fetch_intraday_data('AAPL')\n",
    "script_data.convert_intraday_data(\"AAPL\")\n",
    "script_data['AAPL']"
   ]
  },
  {
   "cell_type": "code",
   "execution_count": 6,
   "metadata": {},
   "outputs": [
    {
     "data": {
      "text/plain": [
       "True"
      ]
     },
     "execution_count": 6,
     "metadata": {},
     "output_type": "execute_result"
    }
   ],
   "source": [
    "'GOOGL' in script_data"
   ]
  },
  {
   "cell_type": "code",
   "execution_count": 7,
   "metadata": {},
   "outputs": [
    {
     "data": {
      "text/plain": [
       "True"
      ]
     },
     "execution_count": 7,
     "metadata": {},
     "output_type": "execute_result"
    }
   ],
   "source": [
    "'AAPL' in script_data"
   ]
  },
  {
   "cell_type": "code",
   "execution_count": 8,
   "metadata": {},
   "outputs": [
    {
     "data": {
      "text/plain": [
       "False"
      ]
     },
     "execution_count": 8,
     "metadata": {},
     "output_type": "execute_result"
    }
   ],
   "source": [
    "'NVDA' in script_data"
   ]
  },
  {
   "cell_type": "code",
   "execution_count": 9,
   "metadata": {},
   "outputs": [],
   "source": [
    "def indicator1(df, timeperiod):\n",
    "    \n",
    "    df['indicator'] = df.close.rolling(window=timeperiod).mean()    \n",
    "    indicator=df[['timestamp', 'indicator']]\n",
    "    return indicator"
   ]
  },
  {
   "cell_type": "code",
   "execution_count": 10,
   "metadata": {},
   "outputs": [
    {
     "data": {
      "text/html": [
       "<div>\n",
       "<style scoped>\n",
       "    .dataframe tbody tr th:only-of-type {\n",
       "        vertical-align: middle;\n",
       "    }\n",
       "\n",
       "    .dataframe tbody tr th {\n",
       "        vertical-align: top;\n",
       "    }\n",
       "\n",
       "    .dataframe thead th {\n",
       "        text-align: right;\n",
       "    }\n",
       "</style>\n",
       "<table border=\"1\" class=\"dataframe\">\n",
       "  <thead>\n",
       "    <tr style=\"text-align: right;\">\n",
       "      <th></th>\n",
       "      <th>timestamp</th>\n",
       "      <th>indicator</th>\n",
       "    </tr>\n",
       "  </thead>\n",
       "  <tbody>\n",
       "    <tr>\n",
       "      <th>0</th>\n",
       "      <td>2023-02-15 20:00:00</td>\n",
       "      <td>NaN</td>\n",
       "    </tr>\n",
       "    <tr>\n",
       "      <th>1</th>\n",
       "      <td>2023-02-15 19:59:00</td>\n",
       "      <td>NaN</td>\n",
       "    </tr>\n",
       "    <tr>\n",
       "      <th>2</th>\n",
       "      <td>2023-02-15 19:58:00</td>\n",
       "      <td>NaN</td>\n",
       "    </tr>\n",
       "    <tr>\n",
       "      <th>3</th>\n",
       "      <td>2023-02-15 19:57:00</td>\n",
       "      <td>NaN</td>\n",
       "    </tr>\n",
       "    <tr>\n",
       "      <th>4</th>\n",
       "      <td>2023-02-15 19:56:00</td>\n",
       "      <td>97.112</td>\n",
       "    </tr>\n",
       "    <tr>\n",
       "      <th>...</th>\n",
       "      <td>...</td>\n",
       "      <td>...</td>\n",
       "    </tr>\n",
       "    <tr>\n",
       "      <th>95</th>\n",
       "      <td>2023-02-15 18:01:00</td>\n",
       "      <td>96.954</td>\n",
       "    </tr>\n",
       "    <tr>\n",
       "      <th>96</th>\n",
       "      <td>2023-02-15 18:00:00</td>\n",
       "      <td>96.940</td>\n",
       "    </tr>\n",
       "    <tr>\n",
       "      <th>97</th>\n",
       "      <td>2023-02-15 17:59:00</td>\n",
       "      <td>96.930</td>\n",
       "    </tr>\n",
       "    <tr>\n",
       "      <th>98</th>\n",
       "      <td>2023-02-15 17:58:00</td>\n",
       "      <td>96.928</td>\n",
       "    </tr>\n",
       "    <tr>\n",
       "      <th>99</th>\n",
       "      <td>2023-02-15 17:57:00</td>\n",
       "      <td>96.922</td>\n",
       "    </tr>\n",
       "  </tbody>\n",
       "</table>\n",
       "<p>100 rows × 2 columns</p>\n",
       "</div>"
      ],
      "text/plain": [
       "             timestamp  indicator\n",
       "0  2023-02-15 20:00:00        NaN\n",
       "1  2023-02-15 19:59:00        NaN\n",
       "2  2023-02-15 19:58:00        NaN\n",
       "3  2023-02-15 19:57:00        NaN\n",
       "4  2023-02-15 19:56:00     97.112\n",
       "..                 ...        ...\n",
       "95 2023-02-15 18:01:00     96.954\n",
       "96 2023-02-15 18:00:00     96.940\n",
       "97 2023-02-15 17:59:00     96.930\n",
       "98 2023-02-15 17:58:00     96.928\n",
       "99 2023-02-15 17:57:00     96.922\n",
       "\n",
       "[100 rows x 2 columns]"
      ]
     },
     "execution_count": 10,
     "metadata": {},
     "output_type": "execute_result"
    }
   ],
   "source": [
    "indicator1(script_data['GOOGL'], timeperiod=5)"
   ]
  },
  {
   "cell_type": "code",
   "execution_count": 11,
   "metadata": {},
   "outputs": [
    {
     "data": {
      "text/html": [
       "<div>\n",
       "<style scoped>\n",
       "    .dataframe tbody tr th:only-of-type {\n",
       "        vertical-align: middle;\n",
       "    }\n",
       "\n",
       "    .dataframe tbody tr th {\n",
       "        vertical-align: top;\n",
       "    }\n",
       "\n",
       "    .dataframe thead th {\n",
       "        text-align: right;\n",
       "    }\n",
       "</style>\n",
       "<table border=\"1\" class=\"dataframe\">\n",
       "  <thead>\n",
       "    <tr style=\"text-align: right;\">\n",
       "      <th></th>\n",
       "      <th>timestamp</th>\n",
       "      <th>indicator</th>\n",
       "    </tr>\n",
       "  </thead>\n",
       "  <tbody>\n",
       "    <tr>\n",
       "      <th>0</th>\n",
       "      <td>2023-02-15 20:00:00</td>\n",
       "      <td>NaN</td>\n",
       "    </tr>\n",
       "    <tr>\n",
       "      <th>1</th>\n",
       "      <td>2023-02-15 19:59:00</td>\n",
       "      <td>NaN</td>\n",
       "    </tr>\n",
       "    <tr>\n",
       "      <th>2</th>\n",
       "      <td>2023-02-15 19:58:00</td>\n",
       "      <td>NaN</td>\n",
       "    </tr>\n",
       "    <tr>\n",
       "      <th>3</th>\n",
       "      <td>2023-02-15 19:57:00</td>\n",
       "      <td>NaN</td>\n",
       "    </tr>\n",
       "    <tr>\n",
       "      <th>4</th>\n",
       "      <td>2023-02-15 19:56:00</td>\n",
       "      <td>155.49002</td>\n",
       "    </tr>\n",
       "    <tr>\n",
       "      <th>...</th>\n",
       "      <td>...</td>\n",
       "      <td>...</td>\n",
       "    </tr>\n",
       "    <tr>\n",
       "      <th>95</th>\n",
       "      <td>2023-02-15 17:12:00</td>\n",
       "      <td>155.27200</td>\n",
       "    </tr>\n",
       "    <tr>\n",
       "      <th>96</th>\n",
       "      <td>2023-02-15 17:10:00</td>\n",
       "      <td>155.28000</td>\n",
       "    </tr>\n",
       "    <tr>\n",
       "      <th>97</th>\n",
       "      <td>2023-02-15 17:08:00</td>\n",
       "      <td>155.28800</td>\n",
       "    </tr>\n",
       "    <tr>\n",
       "      <th>98</th>\n",
       "      <td>2023-02-15 17:07:00</td>\n",
       "      <td>155.29370</td>\n",
       "    </tr>\n",
       "    <tr>\n",
       "      <th>99</th>\n",
       "      <td>2023-02-15 17:05:00</td>\n",
       "      <td>155.29570</td>\n",
       "    </tr>\n",
       "  </tbody>\n",
       "</table>\n",
       "<p>100 rows × 2 columns</p>\n",
       "</div>"
      ],
      "text/plain": [
       "             timestamp  indicator\n",
       "0  2023-02-15 20:00:00        NaN\n",
       "1  2023-02-15 19:59:00        NaN\n",
       "2  2023-02-15 19:58:00        NaN\n",
       "3  2023-02-15 19:57:00        NaN\n",
       "4  2023-02-15 19:56:00  155.49002\n",
       "..                 ...        ...\n",
       "95 2023-02-15 17:12:00  155.27200\n",
       "96 2023-02-15 17:10:00  155.28000\n",
       "97 2023-02-15 17:08:00  155.28800\n",
       "98 2023-02-15 17:07:00  155.29370\n",
       "99 2023-02-15 17:05:00  155.29570\n",
       "\n",
       "[100 rows x 2 columns]"
      ]
     },
     "execution_count": 11,
     "metadata": {},
     "output_type": "execute_result"
    }
   ],
   "source": [
    "indicator1(script_data['AAPL'], timeperiod=5)"
   ]
  },
  {
   "cell_type": "code",
   "execution_count": 12,
   "metadata": {},
   "outputs": [],
   "source": [
    "class Strategy:\n",
    "    def __init__(self, script_name):\n",
    "        self.script_name = script_name\n",
    "        \n",
    "    \n",
    "    def get_script_data(self):\n",
    "        script_data = ScriptData()\n",
    "        self.df=script_data.fetch_intraday_data(self.script_name)\n",
    "        self.df = script_data.convert_intraday_data(self.script_name)\n",
    "        self.close_data=self.df['close']\n",
    "        indi_data=self.indicator_data = indicator1(self.df, timeperiod=5)\n",
    "        self.indicator_data=indi_data['indicator']\n",
    "        #return self.indicator_data\n",
    "    \n",
    "\n",
    "    def get_signals(self):\n",
    "        signals = pd.DataFrame({'timestamp': pd.to_datetime(self.df['timestamp'])})\n",
    "        signals['signal'] = 'NO_SIGNAL'\n",
    "        for i in range(1, len(self.close_data)):\n",
    "            \n",
    "            if self.indicator_data[i] > self.close_data[i] and self.indicator_data[i-1] < self.close_data[i-1]:\n",
    "                    signals.loc[i, 'signal'] = 'BUY'\n",
    "            elif self.indicator_data[i] < self.close_data[i] and self.indicator_data[i-1] > self.close_data[i-1]:\n",
    "                    signals.loc[i, 'signal'] = 'SELL'\n",
    "        \n",
    "        signals.loc[self.indicator_data > self.close_data, 'signal'] = 'BUY'\n",
    "        signals.loc[self.indicator_data < self.close_data, 'signal'] = 'SELL'\n",
    "        signals = signals[signals['signal'].isin(['BUY', 'SELL'])]\n",
    "        print(signals)\n",
    "        "
   ]
  },
  {
   "cell_type": "code",
   "execution_count": 13,
   "metadata": {},
   "outputs": [],
   "source": [
    "strategy = Strategy('NVDA')"
   ]
  },
  {
   "cell_type": "code",
   "execution_count": 14,
   "metadata": {},
   "outputs": [],
   "source": [
    "strategy.get_script_data()"
   ]
  },
  {
   "cell_type": "code",
   "execution_count": 15,
   "metadata": {},
   "outputs": [
    {
     "name": "stdout",
     "output_type": "stream",
     "text": [
      "             timestamp signal\n",
      "4  2023-02-15 19:54:00   SELL\n",
      "5  2023-02-15 19:53:00   SELL\n",
      "6  2023-02-15 19:52:00    BUY\n",
      "7  2023-02-15 19:51:00    BUY\n",
      "8  2023-02-15 19:50:00    BUY\n",
      "..                 ...    ...\n",
      "95 2023-02-15 17:24:00    BUY\n",
      "96 2023-02-15 17:23:00    BUY\n",
      "97 2023-02-15 17:21:00    BUY\n",
      "98 2023-02-15 17:20:00    BUY\n",
      "99 2023-02-15 17:15:00    BUY\n",
      "\n",
      "[95 rows x 2 columns]\n"
     ]
    }
   ],
   "source": [
    "strategy.get_signals()"
   ]
  },
  {
   "cell_type": "code",
   "execution_count": 20,
   "metadata": {},
   "outputs": [
    {
     "data": {
      "application/vnd.plotly.v1+json": {
       "config": {
        "plotlyServerURL": "https://plot.ly"
       },
       "data": [
        {
         "close": [
          155.48,
          155.51,
          155.4901,
          155.49,
          155.48,
          155.49,
          155.5,
          155.48,
          155.4399,
          155.4,
          155.41,
          155.41,
          155.47,
          155.41,
          155.49,
          155.5,
          155.48,
          155.46,
          155.44,
          155.41,
          155.47,
          155.47,
          155.47,
          155.49,
          155.47,
          155.45,
          155.48,
          155.49,
          155.44,
          155.48,
          155.46,
          155.48,
          155.48,
          155.43,
          155.5,
          155.45,
          155.44,
          155.4,
          155.37,
          155.3,
          155.33,
          155.36,
          155.34,
          155.34,
          155.36,
          155.37,
          155.36,
          155.38,
          155.37,
          155.35,
          155.35,
          155.33,
          155.34,
          155.32,
          155.31,
          155.31,
          155.26,
          155.27,
          155.26,
          155.26,
          155.27,
          155.27,
          155.27,
          155.27,
          155.27,
          155.2601,
          155.28,
          155.29,
          155.28,
          155.27,
          155.26,
          155.29,
          155.27,
          155.26,
          155.26,
          155.29,
          155.29,
          155.27,
          155.271,
          155.27,
          155.3,
          155.29,
          155.27,
          155.28,
          155.3,
          155.28,
          155.28,
          155.28,
          155.3,
          155.2404,
          155.3,
          155.25,
          155.25,
          155.28,
          155.29,
          155.29,
          155.29,
          155.29,
          155.3085,
          155.3
         ],
         "high": [
          155.51,
          155.51,
          155.5,
          155.5,
          155.48,
          155.49,
          155.5,
          155.48,
          155.4399,
          155.42,
          155.42,
          155.44,
          155.47,
          155.49,
          155.49,
          155.5,
          155.48,
          155.46,
          155.44,
          155.46,
          155.47,
          155.49,
          155.47,
          155.49,
          155.47,
          155.48,
          155.48,
          155.49,
          155.49,
          155.48,
          155.49,
          155.48,
          155.48,
          155.48,
          155.5,
          155.45,
          155.44,
          155.45,
          155.37,
          155.31,
          155.37,
          155.36,
          155.34,
          155.36,
          155.36,
          155.37,
          155.37,
          155.39,
          155.37,
          155.35,
          155.35,
          155.37,
          155.36,
          155.32,
          155.31,
          155.31,
          155.26,
          155.27,
          155.26,
          155.26,
          155.27,
          155.27,
          155.27,
          155.27,
          155.27,
          155.2601,
          155.28,
          155.29,
          155.28,
          155.27,
          155.26,
          155.29,
          155.27,
          155.2608,
          155.28,
          155.29,
          155.29,
          155.2706,
          155.33,
          155.28,
          155.3,
          155.3,
          155.27,
          155.28,
          155.3,
          155.28,
          155.28,
          155.28,
          155.3,
          155.2404,
          155.3,
          155.25,
          155.2519,
          155.29,
          155.29,
          155.29,
          155.29,
          155.29,
          155.3085,
          155.3
         ],
         "low": [
          155.48,
          155.49,
          155.48,
          155.49,
          155.48,
          155.48,
          155.48,
          155.48,
          155.4399,
          155.4,
          155.41,
          155.41,
          155.41,
          155.41,
          155.45,
          155.45,
          155.48,
          155.45,
          155.4,
          155.41,
          155.47,
          155.47,
          155.47,
          155.47,
          155.44,
          155.44,
          155.48,
          155.48,
          155.44,
          155.47,
          155.46,
          155.48,
          155.47,
          155.43,
          155.45,
          155.4,
          155.37,
          155.38,
          155.31,
          155.3,
          155.32,
          155.36,
          155.34,
          155.34,
          155.36,
          155.37,
          155.36,
          155.37,
          155.36,
          155.35,
          155.34,
          155.33,
          155.33,
          155.31,
          155.28,
          155.28,
          155.26,
          155.27,
          155.26,
          155.26,
          155.27,
          155.27,
          155.27,
          155.27,
          155.27,
          155.2601,
          155.28,
          155.28,
          155.28,
          155.27,
          155.26,
          155.29,
          155.27,
          155.26,
          155.26,
          155.29,
          155.27,
          155.27,
          155.271,
          155.27,
          155.3,
          155.29,
          155.27,
          155.27,
          155.3,
          155.26,
          155.28,
          155.28,
          155.2999,
          155.2404,
          155.2986,
          155.25,
          155.25,
          155.28,
          155.29,
          155.29,
          155.29,
          155.29,
          155.3,
          155.3
         ],
         "open": [
          155.51,
          155.5,
          155.48,
          155.49,
          155.48,
          155.48,
          155.48,
          155.48,
          155.4399,
          155.42,
          155.42,
          155.41,
          155.43,
          155.49,
          155.45,
          155.45,
          155.48,
          155.45,
          155.4,
          155.46,
          155.47,
          155.49,
          155.47,
          155.47,
          155.44,
          155.44,
          155.48,
          155.48,
          155.49,
          155.47,
          155.49,
          155.48,
          155.47,
          155.47,
          155.45,
          155.4,
          155.44,
          155.39,
          155.31,
          155.31,
          155.37,
          155.36,
          155.34,
          155.36,
          155.36,
          155.37,
          155.37,
          155.39,
          155.36,
          155.35,
          155.34,
          155.37,
          155.33,
          155.31,
          155.3,
          155.28,
          155.26,
          155.27,
          155.26,
          155.26,
          155.27,
          155.27,
          155.27,
          155.27,
          155.27,
          155.2601,
          155.28,
          155.29,
          155.28,
          155.27,
          155.26,
          155.29,
          155.27,
          155.26,
          155.28,
          155.29,
          155.2701,
          155.2706,
          155.2786,
          155.28,
          155.3,
          155.3,
          155.27,
          155.27,
          155.3,
          155.26,
          155.28,
          155.28,
          155.2999,
          155.2404,
          155.2986,
          155.25,
          155.25,
          155.29,
          155.29,
          155.29,
          155.29,
          155.29,
          155.3,
          155.3
         ],
         "type": "candlestick",
         "x": [
          "2023-02-15T20:00:00",
          "2023-02-15T19:59:00",
          "2023-02-15T19:58:00",
          "2023-02-15T19:57:00",
          "2023-02-15T19:56:00",
          "2023-02-15T19:55:00",
          "2023-02-15T19:53:00",
          "2023-02-15T19:52:00",
          "2023-02-15T19:46:00",
          "2023-02-15T19:45:00",
          "2023-02-15T19:44:00",
          "2023-02-15T19:43:00",
          "2023-02-15T19:42:00",
          "2023-02-15T19:41:00",
          "2023-02-15T19:40:00",
          "2023-02-15T19:38:00",
          "2023-02-15T19:37:00",
          "2023-02-15T19:35:00",
          "2023-02-15T19:32:00",
          "2023-02-15T19:31:00",
          "2023-02-15T19:30:00",
          "2023-02-15T19:28:00",
          "2023-02-15T19:27:00",
          "2023-02-15T19:26:00",
          "2023-02-15T19:24:00",
          "2023-02-15T19:23:00",
          "2023-02-15T19:22:00",
          "2023-02-15T19:21:00",
          "2023-02-15T19:20:00",
          "2023-02-15T19:19:00",
          "2023-02-15T19:18:00",
          "2023-02-15T19:16:00",
          "2023-02-15T19:13:00",
          "2023-02-15T19:10:00",
          "2023-02-15T19:09:00",
          "2023-02-15T19:08:00",
          "2023-02-15T19:07:00",
          "2023-02-15T19:06:00",
          "2023-02-15T19:03:00",
          "2023-02-15T19:01:00",
          "2023-02-15T19:00:00",
          "2023-02-15T18:59:00",
          "2023-02-15T18:56:00",
          "2023-02-15T18:54:00",
          "2023-02-15T18:52:00",
          "2023-02-15T18:49:00",
          "2023-02-15T18:47:00",
          "2023-02-15T18:46:00",
          "2023-02-15T18:44:00",
          "2023-02-15T18:35:00",
          "2023-02-15T18:34:00",
          "2023-02-15T18:32:00",
          "2023-02-15T18:31:00",
          "2023-02-15T18:30:00",
          "2023-02-15T18:29:00",
          "2023-02-15T18:27:00",
          "2023-02-15T18:25:00",
          "2023-02-15T18:23:00",
          "2023-02-15T18:22:00",
          "2023-02-15T18:17:00",
          "2023-02-15T18:14:00",
          "2023-02-15T18:13:00",
          "2023-02-15T18:12:00",
          "2023-02-15T18:08:00",
          "2023-02-15T18:07:00",
          "2023-02-15T18:06:00",
          "2023-02-15T18:05:00",
          "2023-02-15T18:04:00",
          "2023-02-15T18:03:00",
          "2023-02-15T18:02:00",
          "2023-02-15T18:01:00",
          "2023-02-15T17:56:00",
          "2023-02-15T17:54:00",
          "2023-02-15T17:52:00",
          "2023-02-15T17:51:00",
          "2023-02-15T17:46:00",
          "2023-02-15T17:44:00",
          "2023-02-15T17:43:00",
          "2023-02-15T17:40:00",
          "2023-02-15T17:36:00",
          "2023-02-15T17:33:00",
          "2023-02-15T17:32:00",
          "2023-02-15T17:31:00",
          "2023-02-15T17:30:00",
          "2023-02-15T17:29:00",
          "2023-02-15T17:26:00",
          "2023-02-15T17:24:00",
          "2023-02-15T17:23:00",
          "2023-02-15T17:22:00",
          "2023-02-15T17:21:00",
          "2023-02-15T17:19:00",
          "2023-02-15T17:17:00",
          "2023-02-15T17:15:00",
          "2023-02-15T17:14:00",
          "2023-02-15T17:13:00",
          "2023-02-15T17:12:00",
          "2023-02-15T17:10:00",
          "2023-02-15T17:08:00",
          "2023-02-15T17:07:00",
          "2023-02-15T17:05:00"
         ]
        }
       ],
       "layout": {
        "template": {
         "data": {
          "bar": [
           {
            "error_x": {
             "color": "#2a3f5f"
            },
            "error_y": {
             "color": "#2a3f5f"
            },
            "marker": {
             "line": {
              "color": "#E5ECF6",
              "width": 0.5
             },
             "pattern": {
              "fillmode": "overlay",
              "size": 10,
              "solidity": 0.2
             }
            },
            "type": "bar"
           }
          ],
          "barpolar": [
           {
            "marker": {
             "line": {
              "color": "#E5ECF6",
              "width": 0.5
             },
             "pattern": {
              "fillmode": "overlay",
              "size": 10,
              "solidity": 0.2
             }
            },
            "type": "barpolar"
           }
          ],
          "carpet": [
           {
            "aaxis": {
             "endlinecolor": "#2a3f5f",
             "gridcolor": "white",
             "linecolor": "white",
             "minorgridcolor": "white",
             "startlinecolor": "#2a3f5f"
            },
            "baxis": {
             "endlinecolor": "#2a3f5f",
             "gridcolor": "white",
             "linecolor": "white",
             "minorgridcolor": "white",
             "startlinecolor": "#2a3f5f"
            },
            "type": "carpet"
           }
          ],
          "choropleth": [
           {
            "colorbar": {
             "outlinewidth": 0,
             "ticks": ""
            },
            "type": "choropleth"
           }
          ],
          "contour": [
           {
            "colorbar": {
             "outlinewidth": 0,
             "ticks": ""
            },
            "colorscale": [
             [
              0,
              "#0d0887"
             ],
             [
              0.1111111111111111,
              "#46039f"
             ],
             [
              0.2222222222222222,
              "#7201a8"
             ],
             [
              0.3333333333333333,
              "#9c179e"
             ],
             [
              0.4444444444444444,
              "#bd3786"
             ],
             [
              0.5555555555555556,
              "#d8576b"
             ],
             [
              0.6666666666666666,
              "#ed7953"
             ],
             [
              0.7777777777777778,
              "#fb9f3a"
             ],
             [
              0.8888888888888888,
              "#fdca26"
             ],
             [
              1,
              "#f0f921"
             ]
            ],
            "type": "contour"
           }
          ],
          "contourcarpet": [
           {
            "colorbar": {
             "outlinewidth": 0,
             "ticks": ""
            },
            "type": "contourcarpet"
           }
          ],
          "heatmap": [
           {
            "colorbar": {
             "outlinewidth": 0,
             "ticks": ""
            },
            "colorscale": [
             [
              0,
              "#0d0887"
             ],
             [
              0.1111111111111111,
              "#46039f"
             ],
             [
              0.2222222222222222,
              "#7201a8"
             ],
             [
              0.3333333333333333,
              "#9c179e"
             ],
             [
              0.4444444444444444,
              "#bd3786"
             ],
             [
              0.5555555555555556,
              "#d8576b"
             ],
             [
              0.6666666666666666,
              "#ed7953"
             ],
             [
              0.7777777777777778,
              "#fb9f3a"
             ],
             [
              0.8888888888888888,
              "#fdca26"
             ],
             [
              1,
              "#f0f921"
             ]
            ],
            "type": "heatmap"
           }
          ],
          "heatmapgl": [
           {
            "colorbar": {
             "outlinewidth": 0,
             "ticks": ""
            },
            "colorscale": [
             [
              0,
              "#0d0887"
             ],
             [
              0.1111111111111111,
              "#46039f"
             ],
             [
              0.2222222222222222,
              "#7201a8"
             ],
             [
              0.3333333333333333,
              "#9c179e"
             ],
             [
              0.4444444444444444,
              "#bd3786"
             ],
             [
              0.5555555555555556,
              "#d8576b"
             ],
             [
              0.6666666666666666,
              "#ed7953"
             ],
             [
              0.7777777777777778,
              "#fb9f3a"
             ],
             [
              0.8888888888888888,
              "#fdca26"
             ],
             [
              1,
              "#f0f921"
             ]
            ],
            "type": "heatmapgl"
           }
          ],
          "histogram": [
           {
            "marker": {
             "pattern": {
              "fillmode": "overlay",
              "size": 10,
              "solidity": 0.2
             }
            },
            "type": "histogram"
           }
          ],
          "histogram2d": [
           {
            "colorbar": {
             "outlinewidth": 0,
             "ticks": ""
            },
            "colorscale": [
             [
              0,
              "#0d0887"
             ],
             [
              0.1111111111111111,
              "#46039f"
             ],
             [
              0.2222222222222222,
              "#7201a8"
             ],
             [
              0.3333333333333333,
              "#9c179e"
             ],
             [
              0.4444444444444444,
              "#bd3786"
             ],
             [
              0.5555555555555556,
              "#d8576b"
             ],
             [
              0.6666666666666666,
              "#ed7953"
             ],
             [
              0.7777777777777778,
              "#fb9f3a"
             ],
             [
              0.8888888888888888,
              "#fdca26"
             ],
             [
              1,
              "#f0f921"
             ]
            ],
            "type": "histogram2d"
           }
          ],
          "histogram2dcontour": [
           {
            "colorbar": {
             "outlinewidth": 0,
             "ticks": ""
            },
            "colorscale": [
             [
              0,
              "#0d0887"
             ],
             [
              0.1111111111111111,
              "#46039f"
             ],
             [
              0.2222222222222222,
              "#7201a8"
             ],
             [
              0.3333333333333333,
              "#9c179e"
             ],
             [
              0.4444444444444444,
              "#bd3786"
             ],
             [
              0.5555555555555556,
              "#d8576b"
             ],
             [
              0.6666666666666666,
              "#ed7953"
             ],
             [
              0.7777777777777778,
              "#fb9f3a"
             ],
             [
              0.8888888888888888,
              "#fdca26"
             ],
             [
              1,
              "#f0f921"
             ]
            ],
            "type": "histogram2dcontour"
           }
          ],
          "mesh3d": [
           {
            "colorbar": {
             "outlinewidth": 0,
             "ticks": ""
            },
            "type": "mesh3d"
           }
          ],
          "parcoords": [
           {
            "line": {
             "colorbar": {
              "outlinewidth": 0,
              "ticks": ""
             }
            },
            "type": "parcoords"
           }
          ],
          "pie": [
           {
            "automargin": true,
            "type": "pie"
           }
          ],
          "scatter": [
           {
            "fillpattern": {
             "fillmode": "overlay",
             "size": 10,
             "solidity": 0.2
            },
            "type": "scatter"
           }
          ],
          "scatter3d": [
           {
            "line": {
             "colorbar": {
              "outlinewidth": 0,
              "ticks": ""
             }
            },
            "marker": {
             "colorbar": {
              "outlinewidth": 0,
              "ticks": ""
             }
            },
            "type": "scatter3d"
           }
          ],
          "scattercarpet": [
           {
            "marker": {
             "colorbar": {
              "outlinewidth": 0,
              "ticks": ""
             }
            },
            "type": "scattercarpet"
           }
          ],
          "scattergeo": [
           {
            "marker": {
             "colorbar": {
              "outlinewidth": 0,
              "ticks": ""
             }
            },
            "type": "scattergeo"
           }
          ],
          "scattergl": [
           {
            "marker": {
             "colorbar": {
              "outlinewidth": 0,
              "ticks": ""
             }
            },
            "type": "scattergl"
           }
          ],
          "scattermapbox": [
           {
            "marker": {
             "colorbar": {
              "outlinewidth": 0,
              "ticks": ""
             }
            },
            "type": "scattermapbox"
           }
          ],
          "scatterpolar": [
           {
            "marker": {
             "colorbar": {
              "outlinewidth": 0,
              "ticks": ""
             }
            },
            "type": "scatterpolar"
           }
          ],
          "scatterpolargl": [
           {
            "marker": {
             "colorbar": {
              "outlinewidth": 0,
              "ticks": ""
             }
            },
            "type": "scatterpolargl"
           }
          ],
          "scatterternary": [
           {
            "marker": {
             "colorbar": {
              "outlinewidth": 0,
              "ticks": ""
             }
            },
            "type": "scatterternary"
           }
          ],
          "surface": [
           {
            "colorbar": {
             "outlinewidth": 0,
             "ticks": ""
            },
            "colorscale": [
             [
              0,
              "#0d0887"
             ],
             [
              0.1111111111111111,
              "#46039f"
             ],
             [
              0.2222222222222222,
              "#7201a8"
             ],
             [
              0.3333333333333333,
              "#9c179e"
             ],
             [
              0.4444444444444444,
              "#bd3786"
             ],
             [
              0.5555555555555556,
              "#d8576b"
             ],
             [
              0.6666666666666666,
              "#ed7953"
             ],
             [
              0.7777777777777778,
              "#fb9f3a"
             ],
             [
              0.8888888888888888,
              "#fdca26"
             ],
             [
              1,
              "#f0f921"
             ]
            ],
            "type": "surface"
           }
          ],
          "table": [
           {
            "cells": {
             "fill": {
              "color": "#EBF0F8"
             },
             "line": {
              "color": "white"
             }
            },
            "header": {
             "fill": {
              "color": "#C8D4E3"
             },
             "line": {
              "color": "white"
             }
            },
            "type": "table"
           }
          ]
         },
         "layout": {
          "annotationdefaults": {
           "arrowcolor": "#2a3f5f",
           "arrowhead": 0,
           "arrowwidth": 1
          },
          "autotypenumbers": "strict",
          "coloraxis": {
           "colorbar": {
            "outlinewidth": 0,
            "ticks": ""
           }
          },
          "colorscale": {
           "diverging": [
            [
             0,
             "#8e0152"
            ],
            [
             0.1,
             "#c51b7d"
            ],
            [
             0.2,
             "#de77ae"
            ],
            [
             0.3,
             "#f1b6da"
            ],
            [
             0.4,
             "#fde0ef"
            ],
            [
             0.5,
             "#f7f7f7"
            ],
            [
             0.6,
             "#e6f5d0"
            ],
            [
             0.7,
             "#b8e186"
            ],
            [
             0.8,
             "#7fbc41"
            ],
            [
             0.9,
             "#4d9221"
            ],
            [
             1,
             "#276419"
            ]
           ],
           "sequential": [
            [
             0,
             "#0d0887"
            ],
            [
             0.1111111111111111,
             "#46039f"
            ],
            [
             0.2222222222222222,
             "#7201a8"
            ],
            [
             0.3333333333333333,
             "#9c179e"
            ],
            [
             0.4444444444444444,
             "#bd3786"
            ],
            [
             0.5555555555555556,
             "#d8576b"
            ],
            [
             0.6666666666666666,
             "#ed7953"
            ],
            [
             0.7777777777777778,
             "#fb9f3a"
            ],
            [
             0.8888888888888888,
             "#fdca26"
            ],
            [
             1,
             "#f0f921"
            ]
           ],
           "sequentialminus": [
            [
             0,
             "#0d0887"
            ],
            [
             0.1111111111111111,
             "#46039f"
            ],
            [
             0.2222222222222222,
             "#7201a8"
            ],
            [
             0.3333333333333333,
             "#9c179e"
            ],
            [
             0.4444444444444444,
             "#bd3786"
            ],
            [
             0.5555555555555556,
             "#d8576b"
            ],
            [
             0.6666666666666666,
             "#ed7953"
            ],
            [
             0.7777777777777778,
             "#fb9f3a"
            ],
            [
             0.8888888888888888,
             "#fdca26"
            ],
            [
             1,
             "#f0f921"
            ]
           ]
          },
          "colorway": [
           "#636efa",
           "#EF553B",
           "#00cc96",
           "#ab63fa",
           "#FFA15A",
           "#19d3f3",
           "#FF6692",
           "#B6E880",
           "#FF97FF",
           "#FECB52"
          ],
          "font": {
           "color": "#2a3f5f"
          },
          "geo": {
           "bgcolor": "white",
           "lakecolor": "white",
           "landcolor": "#E5ECF6",
           "showlakes": true,
           "showland": true,
           "subunitcolor": "white"
          },
          "hoverlabel": {
           "align": "left"
          },
          "hovermode": "closest",
          "mapbox": {
           "style": "light"
          },
          "paper_bgcolor": "white",
          "plot_bgcolor": "#E5ECF6",
          "polar": {
           "angularaxis": {
            "gridcolor": "white",
            "linecolor": "white",
            "ticks": ""
           },
           "bgcolor": "#E5ECF6",
           "radialaxis": {
            "gridcolor": "white",
            "linecolor": "white",
            "ticks": ""
           }
          },
          "scene": {
           "xaxis": {
            "backgroundcolor": "#E5ECF6",
            "gridcolor": "white",
            "gridwidth": 2,
            "linecolor": "white",
            "showbackground": true,
            "ticks": "",
            "zerolinecolor": "white"
           },
           "yaxis": {
            "backgroundcolor": "#E5ECF6",
            "gridcolor": "white",
            "gridwidth": 2,
            "linecolor": "white",
            "showbackground": true,
            "ticks": "",
            "zerolinecolor": "white"
           },
           "zaxis": {
            "backgroundcolor": "#E5ECF6",
            "gridcolor": "white",
            "gridwidth": 2,
            "linecolor": "white",
            "showbackground": true,
            "ticks": "",
            "zerolinecolor": "white"
           }
          },
          "shapedefaults": {
           "line": {
            "color": "#2a3f5f"
           }
          },
          "ternary": {
           "aaxis": {
            "gridcolor": "white",
            "linecolor": "white",
            "ticks": ""
           },
           "baxis": {
            "gridcolor": "white",
            "linecolor": "white",
            "ticks": ""
           },
           "bgcolor": "#E5ECF6",
           "caxis": {
            "gridcolor": "white",
            "linecolor": "white",
            "ticks": ""
           }
          },
          "title": {
           "x": 0.05
          },
          "xaxis": {
           "automargin": true,
           "gridcolor": "white",
           "linecolor": "white",
           "ticks": "",
           "title": {
            "standoff": 15
           },
           "zerolinecolor": "white",
           "zerolinewidth": 2
          },
          "yaxis": {
           "automargin": true,
           "gridcolor": "white",
           "linecolor": "white",
           "ticks": "",
           "title": {
            "standoff": 15
           },
           "zerolinecolor": "white",
           "zerolinewidth": 2
          }
         }
        }
       }
      }
     },
     "metadata": {},
     "output_type": "display_data"
    },
    {
     "data": {
      "application/vnd.plotly.v1+json": {
       "config": {
        "plotlyServerURL": "https://plot.ly"
       },
       "data": [
        {
         "hovertemplate": "x=%{x}<br>index=%{y}<extra></extra>",
         "legendgroup": "",
         "line": {
          "color": "#636efa",
          "dash": "solid"
         },
         "marker": {
          "symbol": "circle"
         },
         "mode": "lines",
         "name": "",
         "orientation": "h",
         "showlegend": false,
         "type": "scatter",
         "x": [
          "2023-02-15T20:00:00",
          "2023-02-15T19:59:00",
          "2023-02-15T19:58:00",
          "2023-02-15T19:57:00",
          "2023-02-15T19:56:00",
          "2023-02-15T19:55:00",
          "2023-02-15T19:53:00",
          "2023-02-15T19:52:00",
          "2023-02-15T19:46:00",
          "2023-02-15T19:45:00",
          "2023-02-15T19:44:00",
          "2023-02-15T19:43:00",
          "2023-02-15T19:42:00",
          "2023-02-15T19:41:00",
          "2023-02-15T19:40:00",
          "2023-02-15T19:38:00",
          "2023-02-15T19:37:00",
          "2023-02-15T19:35:00",
          "2023-02-15T19:32:00",
          "2023-02-15T19:31:00",
          "2023-02-15T19:30:00",
          "2023-02-15T19:28:00",
          "2023-02-15T19:27:00",
          "2023-02-15T19:26:00",
          "2023-02-15T19:24:00",
          "2023-02-15T19:23:00",
          "2023-02-15T19:22:00",
          "2023-02-15T19:21:00",
          "2023-02-15T19:20:00",
          "2023-02-15T19:19:00",
          "2023-02-15T19:18:00",
          "2023-02-15T19:16:00",
          "2023-02-15T19:13:00",
          "2023-02-15T19:10:00",
          "2023-02-15T19:09:00",
          "2023-02-15T19:08:00",
          "2023-02-15T19:07:00",
          "2023-02-15T19:06:00",
          "2023-02-15T19:03:00",
          "2023-02-15T19:01:00",
          "2023-02-15T19:00:00",
          "2023-02-15T18:59:00",
          "2023-02-15T18:56:00",
          "2023-02-15T18:54:00",
          "2023-02-15T18:52:00",
          "2023-02-15T18:49:00",
          "2023-02-15T18:47:00",
          "2023-02-15T18:46:00",
          "2023-02-15T18:44:00",
          "2023-02-15T18:35:00",
          "2023-02-15T18:34:00",
          "2023-02-15T18:32:00",
          "2023-02-15T18:31:00",
          "2023-02-15T18:30:00",
          "2023-02-15T18:29:00",
          "2023-02-15T18:27:00",
          "2023-02-15T18:25:00",
          "2023-02-15T18:23:00",
          "2023-02-15T18:22:00",
          "2023-02-15T18:17:00",
          "2023-02-15T18:14:00",
          "2023-02-15T18:13:00",
          "2023-02-15T18:12:00",
          "2023-02-15T18:08:00",
          "2023-02-15T18:07:00",
          "2023-02-15T18:06:00",
          "2023-02-15T18:05:00",
          "2023-02-15T18:04:00",
          "2023-02-15T18:03:00",
          "2023-02-15T18:02:00",
          "2023-02-15T18:01:00",
          "2023-02-15T17:56:00",
          "2023-02-15T17:54:00",
          "2023-02-15T17:52:00",
          "2023-02-15T17:51:00",
          "2023-02-15T17:46:00",
          "2023-02-15T17:44:00",
          "2023-02-15T17:43:00",
          "2023-02-15T17:40:00",
          "2023-02-15T17:36:00",
          "2023-02-15T17:33:00",
          "2023-02-15T17:32:00",
          "2023-02-15T17:31:00",
          "2023-02-15T17:30:00",
          "2023-02-15T17:29:00",
          "2023-02-15T17:26:00",
          "2023-02-15T17:24:00",
          "2023-02-15T17:23:00",
          "2023-02-15T17:22:00",
          "2023-02-15T17:21:00",
          "2023-02-15T17:19:00",
          "2023-02-15T17:17:00",
          "2023-02-15T17:15:00",
          "2023-02-15T17:14:00",
          "2023-02-15T17:13:00",
          "2023-02-15T17:12:00",
          "2023-02-15T17:10:00",
          "2023-02-15T17:08:00",
          "2023-02-15T17:07:00",
          "2023-02-15T17:05:00"
         ],
         "xaxis": "x",
         "y": [
          0,
          1,
          2,
          3,
          4,
          5,
          6,
          7,
          8,
          9,
          10,
          11,
          12,
          13,
          14,
          15,
          16,
          17,
          18,
          19,
          20,
          21,
          22,
          23,
          24,
          25,
          26,
          27,
          28,
          29,
          30,
          31,
          32,
          33,
          34,
          35,
          36,
          37,
          38,
          39,
          40,
          41,
          42,
          43,
          44,
          45,
          46,
          47,
          48,
          49,
          50,
          51,
          52,
          53,
          54,
          55,
          56,
          57,
          58,
          59,
          60,
          61,
          62,
          63,
          64,
          65,
          66,
          67,
          68,
          69,
          70,
          71,
          72,
          73,
          74,
          75,
          76,
          77,
          78,
          79,
          80,
          81,
          82,
          83,
          84,
          85,
          86,
          87,
          88,
          89,
          90,
          91,
          92,
          93,
          94,
          95,
          96,
          97,
          98,
          99
         ],
         "yaxis": "y"
        }
       ],
       "layout": {
        "legend": {
         "tracegroupgap": 0
        },
        "margin": {
         "t": 60
        },
        "template": {
         "data": {
          "bar": [
           {
            "error_x": {
             "color": "#2a3f5f"
            },
            "error_y": {
             "color": "#2a3f5f"
            },
            "marker": {
             "line": {
              "color": "#E5ECF6",
              "width": 0.5
             },
             "pattern": {
              "fillmode": "overlay",
              "size": 10,
              "solidity": 0.2
             }
            },
            "type": "bar"
           }
          ],
          "barpolar": [
           {
            "marker": {
             "line": {
              "color": "#E5ECF6",
              "width": 0.5
             },
             "pattern": {
              "fillmode": "overlay",
              "size": 10,
              "solidity": 0.2
             }
            },
            "type": "barpolar"
           }
          ],
          "carpet": [
           {
            "aaxis": {
             "endlinecolor": "#2a3f5f",
             "gridcolor": "white",
             "linecolor": "white",
             "minorgridcolor": "white",
             "startlinecolor": "#2a3f5f"
            },
            "baxis": {
             "endlinecolor": "#2a3f5f",
             "gridcolor": "white",
             "linecolor": "white",
             "minorgridcolor": "white",
             "startlinecolor": "#2a3f5f"
            },
            "type": "carpet"
           }
          ],
          "choropleth": [
           {
            "colorbar": {
             "outlinewidth": 0,
             "ticks": ""
            },
            "type": "choropleth"
           }
          ],
          "contour": [
           {
            "colorbar": {
             "outlinewidth": 0,
             "ticks": ""
            },
            "colorscale": [
             [
              0,
              "#0d0887"
             ],
             [
              0.1111111111111111,
              "#46039f"
             ],
             [
              0.2222222222222222,
              "#7201a8"
             ],
             [
              0.3333333333333333,
              "#9c179e"
             ],
             [
              0.4444444444444444,
              "#bd3786"
             ],
             [
              0.5555555555555556,
              "#d8576b"
             ],
             [
              0.6666666666666666,
              "#ed7953"
             ],
             [
              0.7777777777777778,
              "#fb9f3a"
             ],
             [
              0.8888888888888888,
              "#fdca26"
             ],
             [
              1,
              "#f0f921"
             ]
            ],
            "type": "contour"
           }
          ],
          "contourcarpet": [
           {
            "colorbar": {
             "outlinewidth": 0,
             "ticks": ""
            },
            "type": "contourcarpet"
           }
          ],
          "heatmap": [
           {
            "colorbar": {
             "outlinewidth": 0,
             "ticks": ""
            },
            "colorscale": [
             [
              0,
              "#0d0887"
             ],
             [
              0.1111111111111111,
              "#46039f"
             ],
             [
              0.2222222222222222,
              "#7201a8"
             ],
             [
              0.3333333333333333,
              "#9c179e"
             ],
             [
              0.4444444444444444,
              "#bd3786"
             ],
             [
              0.5555555555555556,
              "#d8576b"
             ],
             [
              0.6666666666666666,
              "#ed7953"
             ],
             [
              0.7777777777777778,
              "#fb9f3a"
             ],
             [
              0.8888888888888888,
              "#fdca26"
             ],
             [
              1,
              "#f0f921"
             ]
            ],
            "type": "heatmap"
           }
          ],
          "heatmapgl": [
           {
            "colorbar": {
             "outlinewidth": 0,
             "ticks": ""
            },
            "colorscale": [
             [
              0,
              "#0d0887"
             ],
             [
              0.1111111111111111,
              "#46039f"
             ],
             [
              0.2222222222222222,
              "#7201a8"
             ],
             [
              0.3333333333333333,
              "#9c179e"
             ],
             [
              0.4444444444444444,
              "#bd3786"
             ],
             [
              0.5555555555555556,
              "#d8576b"
             ],
             [
              0.6666666666666666,
              "#ed7953"
             ],
             [
              0.7777777777777778,
              "#fb9f3a"
             ],
             [
              0.8888888888888888,
              "#fdca26"
             ],
             [
              1,
              "#f0f921"
             ]
            ],
            "type": "heatmapgl"
           }
          ],
          "histogram": [
           {
            "marker": {
             "pattern": {
              "fillmode": "overlay",
              "size": 10,
              "solidity": 0.2
             }
            },
            "type": "histogram"
           }
          ],
          "histogram2d": [
           {
            "colorbar": {
             "outlinewidth": 0,
             "ticks": ""
            },
            "colorscale": [
             [
              0,
              "#0d0887"
             ],
             [
              0.1111111111111111,
              "#46039f"
             ],
             [
              0.2222222222222222,
              "#7201a8"
             ],
             [
              0.3333333333333333,
              "#9c179e"
             ],
             [
              0.4444444444444444,
              "#bd3786"
             ],
             [
              0.5555555555555556,
              "#d8576b"
             ],
             [
              0.6666666666666666,
              "#ed7953"
             ],
             [
              0.7777777777777778,
              "#fb9f3a"
             ],
             [
              0.8888888888888888,
              "#fdca26"
             ],
             [
              1,
              "#f0f921"
             ]
            ],
            "type": "histogram2d"
           }
          ],
          "histogram2dcontour": [
           {
            "colorbar": {
             "outlinewidth": 0,
             "ticks": ""
            },
            "colorscale": [
             [
              0,
              "#0d0887"
             ],
             [
              0.1111111111111111,
              "#46039f"
             ],
             [
              0.2222222222222222,
              "#7201a8"
             ],
             [
              0.3333333333333333,
              "#9c179e"
             ],
             [
              0.4444444444444444,
              "#bd3786"
             ],
             [
              0.5555555555555556,
              "#d8576b"
             ],
             [
              0.6666666666666666,
              "#ed7953"
             ],
             [
              0.7777777777777778,
              "#fb9f3a"
             ],
             [
              0.8888888888888888,
              "#fdca26"
             ],
             [
              1,
              "#f0f921"
             ]
            ],
            "type": "histogram2dcontour"
           }
          ],
          "mesh3d": [
           {
            "colorbar": {
             "outlinewidth": 0,
             "ticks": ""
            },
            "type": "mesh3d"
           }
          ],
          "parcoords": [
           {
            "line": {
             "colorbar": {
              "outlinewidth": 0,
              "ticks": ""
             }
            },
            "type": "parcoords"
           }
          ],
          "pie": [
           {
            "automargin": true,
            "type": "pie"
           }
          ],
          "scatter": [
           {
            "fillpattern": {
             "fillmode": "overlay",
             "size": 10,
             "solidity": 0.2
            },
            "type": "scatter"
           }
          ],
          "scatter3d": [
           {
            "line": {
             "colorbar": {
              "outlinewidth": 0,
              "ticks": ""
             }
            },
            "marker": {
             "colorbar": {
              "outlinewidth": 0,
              "ticks": ""
             }
            },
            "type": "scatter3d"
           }
          ],
          "scattercarpet": [
           {
            "marker": {
             "colorbar": {
              "outlinewidth": 0,
              "ticks": ""
             }
            },
            "type": "scattercarpet"
           }
          ],
          "scattergeo": [
           {
            "marker": {
             "colorbar": {
              "outlinewidth": 0,
              "ticks": ""
             }
            },
            "type": "scattergeo"
           }
          ],
          "scattergl": [
           {
            "marker": {
             "colorbar": {
              "outlinewidth": 0,
              "ticks": ""
             }
            },
            "type": "scattergl"
           }
          ],
          "scattermapbox": [
           {
            "marker": {
             "colorbar": {
              "outlinewidth": 0,
              "ticks": ""
             }
            },
            "type": "scattermapbox"
           }
          ],
          "scatterpolar": [
           {
            "marker": {
             "colorbar": {
              "outlinewidth": 0,
              "ticks": ""
             }
            },
            "type": "scatterpolar"
           }
          ],
          "scatterpolargl": [
           {
            "marker": {
             "colorbar": {
              "outlinewidth": 0,
              "ticks": ""
             }
            },
            "type": "scatterpolargl"
           }
          ],
          "scatterternary": [
           {
            "marker": {
             "colorbar": {
              "outlinewidth": 0,
              "ticks": ""
             }
            },
            "type": "scatterternary"
           }
          ],
          "surface": [
           {
            "colorbar": {
             "outlinewidth": 0,
             "ticks": ""
            },
            "colorscale": [
             [
              0,
              "#0d0887"
             ],
             [
              0.1111111111111111,
              "#46039f"
             ],
             [
              0.2222222222222222,
              "#7201a8"
             ],
             [
              0.3333333333333333,
              "#9c179e"
             ],
             [
              0.4444444444444444,
              "#bd3786"
             ],
             [
              0.5555555555555556,
              "#d8576b"
             ],
             [
              0.6666666666666666,
              "#ed7953"
             ],
             [
              0.7777777777777778,
              "#fb9f3a"
             ],
             [
              0.8888888888888888,
              "#fdca26"
             ],
             [
              1,
              "#f0f921"
             ]
            ],
            "type": "surface"
           }
          ],
          "table": [
           {
            "cells": {
             "fill": {
              "color": "#EBF0F8"
             },
             "line": {
              "color": "white"
             }
            },
            "header": {
             "fill": {
              "color": "#C8D4E3"
             },
             "line": {
              "color": "white"
             }
            },
            "type": "table"
           }
          ]
         },
         "layout": {
          "annotationdefaults": {
           "arrowcolor": "#2a3f5f",
           "arrowhead": 0,
           "arrowwidth": 1
          },
          "autotypenumbers": "strict",
          "coloraxis": {
           "colorbar": {
            "outlinewidth": 0,
            "ticks": ""
           }
          },
          "colorscale": {
           "diverging": [
            [
             0,
             "#8e0152"
            ],
            [
             0.1,
             "#c51b7d"
            ],
            [
             0.2,
             "#de77ae"
            ],
            [
             0.3,
             "#f1b6da"
            ],
            [
             0.4,
             "#fde0ef"
            ],
            [
             0.5,
             "#f7f7f7"
            ],
            [
             0.6,
             "#e6f5d0"
            ],
            [
             0.7,
             "#b8e186"
            ],
            [
             0.8,
             "#7fbc41"
            ],
            [
             0.9,
             "#4d9221"
            ],
            [
             1,
             "#276419"
            ]
           ],
           "sequential": [
            [
             0,
             "#0d0887"
            ],
            [
             0.1111111111111111,
             "#46039f"
            ],
            [
             0.2222222222222222,
             "#7201a8"
            ],
            [
             0.3333333333333333,
             "#9c179e"
            ],
            [
             0.4444444444444444,
             "#bd3786"
            ],
            [
             0.5555555555555556,
             "#d8576b"
            ],
            [
             0.6666666666666666,
             "#ed7953"
            ],
            [
             0.7777777777777778,
             "#fb9f3a"
            ],
            [
             0.8888888888888888,
             "#fdca26"
            ],
            [
             1,
             "#f0f921"
            ]
           ],
           "sequentialminus": [
            [
             0,
             "#0d0887"
            ],
            [
             0.1111111111111111,
             "#46039f"
            ],
            [
             0.2222222222222222,
             "#7201a8"
            ],
            [
             0.3333333333333333,
             "#9c179e"
            ],
            [
             0.4444444444444444,
             "#bd3786"
            ],
            [
             0.5555555555555556,
             "#d8576b"
            ],
            [
             0.6666666666666666,
             "#ed7953"
            ],
            [
             0.7777777777777778,
             "#fb9f3a"
            ],
            [
             0.8888888888888888,
             "#fdca26"
            ],
            [
             1,
             "#f0f921"
            ]
           ]
          },
          "colorway": [
           "#636efa",
           "#EF553B",
           "#00cc96",
           "#ab63fa",
           "#FFA15A",
           "#19d3f3",
           "#FF6692",
           "#B6E880",
           "#FF97FF",
           "#FECB52"
          ],
          "font": {
           "color": "#2a3f5f"
          },
          "geo": {
           "bgcolor": "white",
           "lakecolor": "white",
           "landcolor": "#E5ECF6",
           "showlakes": true,
           "showland": true,
           "subunitcolor": "white"
          },
          "hoverlabel": {
           "align": "left"
          },
          "hovermode": "closest",
          "mapbox": {
           "style": "light"
          },
          "paper_bgcolor": "white",
          "plot_bgcolor": "#E5ECF6",
          "polar": {
           "angularaxis": {
            "gridcolor": "white",
            "linecolor": "white",
            "ticks": ""
           },
           "bgcolor": "#E5ECF6",
           "radialaxis": {
            "gridcolor": "white",
            "linecolor": "white",
            "ticks": ""
           }
          },
          "scene": {
           "xaxis": {
            "backgroundcolor": "#E5ECF6",
            "gridcolor": "white",
            "gridwidth": 2,
            "linecolor": "white",
            "showbackground": true,
            "ticks": "",
            "zerolinecolor": "white"
           },
           "yaxis": {
            "backgroundcolor": "#E5ECF6",
            "gridcolor": "white",
            "gridwidth": 2,
            "linecolor": "white",
            "showbackground": true,
            "ticks": "",
            "zerolinecolor": "white"
           },
           "zaxis": {
            "backgroundcolor": "#E5ECF6",
            "gridcolor": "white",
            "gridwidth": 2,
            "linecolor": "white",
            "showbackground": true,
            "ticks": "",
            "zerolinecolor": "white"
           }
          },
          "shapedefaults": {
           "line": {
            "color": "#2a3f5f"
           }
          },
          "ternary": {
           "aaxis": {
            "gridcolor": "white",
            "linecolor": "white",
            "ticks": ""
           },
           "baxis": {
            "gridcolor": "white",
            "linecolor": "white",
            "ticks": ""
           },
           "bgcolor": "#E5ECF6",
           "caxis": {
            "gridcolor": "white",
            "linecolor": "white",
            "ticks": ""
           }
          },
          "title": {
           "x": 0.05
          },
          "xaxis": {
           "automargin": true,
           "gridcolor": "white",
           "linecolor": "white",
           "ticks": "",
           "title": {
            "standoff": 15
           },
           "zerolinecolor": "white",
           "zerolinewidth": 2
          },
          "yaxis": {
           "automargin": true,
           "gridcolor": "white",
           "linecolor": "white",
           "ticks": "",
           "title": {
            "standoff": 15
           },
           "zerolinecolor": "white",
           "zerolinewidth": 2
          }
         }
        },
        "xaxis": {
         "anchor": "y",
         "domain": [
          0,
          1
         ],
         "title": {
          "text": "x"
         }
        },
        "yaxis": {
         "anchor": "x",
         "domain": [
          0,
          1
         ],
         "title": {
          "text": "index"
         }
        }
       }
      }
     },
     "metadata": {},
     "output_type": "display_data"
    }
   ],
   "source": [
    "import plotly.graph_objects as go\n",
    "import plotly.express as px\n",
    "\n",
    "symbol='AAPL'\n",
    "data=script_data[symbol]\n",
    "open_data = data['open']\n",
    "high_data=data['high']\n",
    "low_data =data['low']\n",
    "close_data =data['close']\n",
    "dates=data['timestamp']\n",
    "indicator=indicator1(script_data[symbol], timeperiod=5)\n",
    "\n",
    "fig = go.Figure(data=[go.Candlestick(x=dates,\n",
    "                       open=open_data, high=high_data,\n",
    "                       low=low_data, close=close_data)])\n",
    "\n",
    "fig.show()\n",
    "ind = px.line(indicator[\"indicator\"], x=dates)\n",
    "\n",
    "ind.show()\n",
    "\n"
   ]
  }
 ],
 "metadata": {
  "kernelspec": {
   "display_name": "Python 3",
   "language": "python",
   "name": "python3"
  },
  "language_info": {
   "codemirror_mode": {
    "name": "ipython",
    "version": 3
   },
   "file_extension": ".py",
   "mimetype": "text/x-python",
   "name": "python",
   "nbconvert_exporter": "python",
   "pygments_lexer": "ipython3",
   "version": "3.10.10"
  },
  "orig_nbformat": 4,
  "vscode": {
   "interpreter": {
    "hash": "5adb1c99921ba419094fc29a6ff2ff166dbd6725c06db40c97ffd40054c96fb1"
   }
  }
 },
 "nbformat": 4,
 "nbformat_minor": 2
}
